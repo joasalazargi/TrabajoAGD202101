{
 "cells": [
  {
   "cell_type": "code",
   "execution_count": 39,
   "metadata": {},
   "outputs": [],
   "source": [
    "#INTEGRANTES\n",
    "#Julian Rodriguez de la Hoz - 1.128.282.329\n",
    "#Johnatan Andrés Salazar Giraldo – 1.040.041.335\n",
    "#Natalia Aguinaga Restrepo – 1.017.124.727\n",
    "#Jenifer Rios Sierra - 1.128.439.215\n",
    "#Jhon Fredy Isaza Trujillo – 1.060.646.757"
   ]
  },
  {
   "cell_type": "code",
   "execution_count": null,
   "metadata": {},
   "outputs": [],
   "source": [
    "# Agrege acá el código para importar las librerias\n",
    "\n",
    "# La libreria para \"encontrar el sevicio\" de Spark\n",
    "import findspark\n",
    "findspark.init()\n",
    "\n",
    "# Librerias para \"gestionar el servicio\" de Spark\n",
    "from pyspark import SparkConf, SparkContext\n",
    "from pyspark.sql import SQLContext, SparkSession\n",
    "\n",
    "# Creamos una aplicación Spark en el Servicio\n",
    "# Tenga cuidado con las tildes o caracteres especiales en el nombre de la app\n",
    "AppSpark = SparkConf().setAppName(\"Evaluacion iSofware\")\n",
    "\n",
    "# definimos un espacio o contexto para la App\n",
    "ContextoSpark=SparkContext(conf=AppSpark)\n",
    "\n",
    "# inicio una sesión en el espacio de la App\n",
    "SesionSpark = SparkSession(ContextoSpark)\n",
    "\n",
    "# inicio del espacio o contexto SQL\n",
    "ContextoSql = SQLContext(sparkContext=ContextoSpark, sparkSession=SesionSpark)"
   ]
  },
  {
   "cell_type": "code",
   "execution_count": 2,
   "metadata": {},
   "outputs": [
    {
     "name": "stdout",
     "output_type": "stream",
     "text": [
      "Found 11 items\n",
      "drwxr-xr-x   - root root       4096 2021-05-24 01:56 .ipynb_checkpoints\n",
      "-rwxrwxrwx   1 root root      93121 2021-05-01 20:21 Asistencia.csv\n",
      "-rwxrwxrwx   1 root root     111944 2021-04-30 19:07 Evaluacion.csv\n",
      "-rwxrwxrwx   1 root root      34467 2021-05-13 01:50 MiSpark.ipynb\n",
      "-rwxrwxrwx   1 root root      44471 2021-05-24 01:39 Spark_22_05.ipynb\n",
      "-rwxrwxrwx   1 root root      48312 2021-05-24 02:29 Taller Jenifer.ipynb\n",
      "-rwxrwxrwx   1 root root      74325 2021-05-24 01:50 Taller Jenn.ipynb\n",
      "-rwxrwxrwx   1 root root      37023 2021-05-24 01:39 Trabajo Cesar.ipynb\n",
      "-rw-r--r--   1 root root    2171677 2018-07-25 19:45 flint-0.6.0.jar\n",
      "-rw-r--r--   1 root root    2171677 2018-07-25 19:45 flint-0.6.0.jar.1\n",
      "drwxr-xr-x   - root root       4096 2021-05-12 23:36 spark-warehouse\n"
     ]
    }
   ],
   "source": [
    "!hadoop fs -ls"
   ]
  },
  {
   "cell_type": "code",
   "execution_count": 3,
   "metadata": {},
   "outputs": [],
   "source": [
    "#!hdfs dfs -rm /tmp/Asistencia1.csv\n",
    "#!hdfs dfs -rm /tmp/Asistencia2.csv\n",
    "#!hdfs dfs -rm /tmp/Evaluacion.csv"
   ]
  },
  {
   "cell_type": "code",
   "execution_count": 38,
   "metadata": {},
   "outputs": [],
   "source": [
    "# 1. Cargue los datos en la carpeta datalake y luego del /datalake al HDFS (Hadoop File System)\n",
    "# Recuerda usar ! para ejecutar el comando en el shell. \n",
    "# Tu código a continuación..."
   ]
  },
  {
   "cell_type": "code",
   "execution_count": 4,
   "metadata": {},
   "outputs": [
    {
     "name": "stdout",
     "output_type": "stream",
     "text": [
      "copyFromLocal: `/tmp/Asistencia.csv': File exists\n"
     ]
    }
   ],
   "source": [
    "!hdfs dfs -copyFromLocal  Asistencia.csv /tmp/"
   ]
  },
  {
   "cell_type": "code",
   "execution_count": 5,
   "metadata": {},
   "outputs": [
    {
     "name": "stdout",
     "output_type": "stream",
     "text": [
      "copyFromLocal: `/tmp/Evaluacion.csv': File exists\n"
     ]
    }
   ],
   "source": [
    "!hdfs dfs -copyFromLocal  Evaluacion.csv /tmp/"
   ]
  },
  {
   "cell_type": "code",
   "execution_count": 6,
   "metadata": {},
   "outputs": [
    {
     "name": "stdout",
     "output_type": "stream",
     "text": [
      "-rw-r--r--   1 root root      93121 2021-05-24 01:50 /tmp/Asistencia.csv\n",
      "-rw-r--r--   1 root root     111944 2021-05-24 01:50 /tmp/Evaluacion.csv\n"
     ]
    }
   ],
   "source": [
    "!hdfs dfs -ls /tmp/*csv"
   ]
  },
  {
   "cell_type": "code",
   "execution_count": 7,
   "metadata": {},
   "outputs": [],
   "source": [
    "# 2. Cree dos tablas SparkSQL y almacene el csv en su correspondiente tabla.\n",
    "# Observación: tenga especial cuidado con los encabezados de los archivos CSV.\n",
    "# Usted puede considerar cambiar los encabezados de los CSV originales\n",
    "# Tu código a continuación..."
   ]
  },
  {
   "cell_type": "code",
   "execution_count": 8,
   "metadata": {},
   "outputs": [],
   "source": [
    "# Creamos una tabla a partir de datos CSV\n",
    "# Se toma el CSV desde el FS de Hadoop\n",
    "#https://www.learningjournal.guru/courses/spark/spark-foundation-training/spark-sql-database-and-table/\n",
    "#https://spark.apache.org/docs/latest/sql-ref-syntax-ddl.html\n",
    "\n",
    "ContextoSql.sql(\"\"\"\n",
    "CREATE TABLE \n",
    "    Asistencia \n",
    "USING com.databricks.spark.csv \n",
    "OPTIONS (\n",
    "    path 'Asistencia.csv', \n",
    "    header 'true')\n",
    "\"\"\");"
   ]
  },
  {
   "cell_type": "code",
   "execution_count": 9,
   "metadata": {},
   "outputs": [],
   "source": [
    "Asistencia = ContextoSql.read.load('/tmp/Asistencia.csv',\n",
    "                                   format=\"csv\",\n",
    "                                   sep=',',\n",
    "                                   inferSchema='true',\n",
    "                                   header='true')"
   ]
  },
  {
   "cell_type": "code",
   "execution_count": 10,
   "metadata": {},
   "outputs": [
    {
     "name": "stdout",
     "output_type": "stream",
     "text": [
      "root\n",
      " |-- Marca: string (nullable = true)\n",
      " |-- Nombre: string (nullable = true)\n",
      " |-- Equipo_perteneces: string (nullable = true)\n",
      " |-- Equipo_exponer: string (nullable = true)\n",
      "\n"
     ]
    }
   ],
   "source": [
    "Asistencia = Asistencia.withColumnRenamed(\"Marca temporal\",\"Marca\")\\\n",
    ".withColumnRenamed(\"Nombre de usuario\",\"Nombre\")\\\n",
    ".withColumnRenamed(\"Equipo al que perteneces:\",\"Equipo_perteneces\")\\\n",
    ".withColumnRenamed(\"Equipo que va a exponer:\",\"Equipo_exponer\")\n",
    "\n",
    "Asistencia.printSchema()"
   ]
  },
  {
   "cell_type": "code",
   "execution_count": 11,
   "metadata": {},
   "outputs": [],
   "source": [
    "Evaluacion = ContextoSql.read.load('/tmp/Evaluacion.csv',\n",
    "                                   format=\"csv\",\n",
    "                                   sep=',',\n",
    "                                   inferSchema='true',\n",
    "                                   header='true')"
   ]
  },
  {
   "cell_type": "code",
   "execution_count": 12,
   "metadata": {},
   "outputs": [
    {
     "name": "stdout",
     "output_type": "stream",
     "text": [
      "root\n",
      " |-- Marca temporal: string (nullable = true)\n",
      " |-- Nombre de usuario: string (nullable = true)\n",
      " |-- Equipo que vas a evaluar:: string (nullable = true)\n",
      " |-- Introducción: El equipo responde adecuadamente ¿Quiénes son y por qué están aquí?: integer (nullable = true)\n",
      " |-- Equipo: El equipo responde adecuadamente ¿Quiénes están detrás de la idea y cuál es su función?: integer (nullable = true)\n",
      " |-- Problema: El equipo responde adecuadamente ¿Qué problema resolverá?, ¿es realmente un problema?: integer (nullable = true)\n",
      " |-- Ventajas: El equipo responde adecuadamente ¿Por qué su solución es especial?, ¿qué la hace distinta de otras?: integer (nullable = true)\n",
      " |-- Solución: El equipo responde adecuadamente ¿Cómo piensa resolver el problema?: integer (nullable = true)\n",
      " |-- Producto: El equipo responde adecuadamente ¿Cómo funciona el producto o servicio? Muestra algunos ejemplos.: integer (nullable = true)\n",
      " |-- Tracción: El equipo responde adecuadamente si cuenta con clientes que demuestran potencial.: integer (nullable = true)\n",
      " |-- Mercado: El equipo responde conoce, o por lo menos intentar predecir, el tamaño del mercado que impactará.: integer (nullable = true)\n",
      " |-- Competencia: El equipo responde adecuadamente ¿Cuáles son las soluciones alternativas al problema que plantea?: integer (nullable = true)\n",
      " |-- Modelo de negocio: El equipo responde adecuadamente ¿Cómo hará dinero? : integer (nullable = true)\n",
      " |-- Inversión: El equipo responde adecuadamente ¿Cuál es su presupuesto y cuánto espera ganar?: integer (nullable = true)\n",
      " |-- Contacto: El equipo deja los datos al cliente y muestra cómo pueden contactarle.: integer (nullable = true)\n",
      " |-- Exposición: ¿Qué tan coordinados estaban los expositores?: integer (nullable = true)\n",
      " |-- Exposición: ¿Los expositores se expresaron con claridad y se hicieron entender?: integer (nullable = true)\n",
      " |-- Exposición: Las diapositivas son claras y coherentes y apoyaron adecuadamente la exposición.: integer (nullable = true)\n",
      " |-- Suponiendo que eres inversionista, ¿Estarías dispuesto a invertir dinero en este equipo? (esta pregunta no se pondera en la nota): string (nullable = true)\n",
      " |-- Observaciones para el equipo, estas observaciones las debe considerar el equipo para mejorar la siguiente presentación.: string (nullable = true)\n",
      "\n"
     ]
    }
   ],
   "source": [
    "Evaluacion.printSchema()"
   ]
  },
  {
   "cell_type": "code",
   "execution_count": 13,
   "metadata": {},
   "outputs": [
    {
     "name": "stdout",
     "output_type": "stream",
     "text": [
      "root\n",
      " |-- Marca: string (nullable = true)\n",
      " |-- Nombre: string (nullable = true)\n",
      " |-- Equipo_evaluar: string (nullable = true)\n",
      " |-- Introduccion: integer (nullable = true)\n",
      " |-- Equipo: integer (nullable = true)\n",
      " |-- Problema: integer (nullable = true)\n",
      " |-- ventajas: integer (nullable = true)\n",
      " |-- solucion: integer (nullable = true)\n",
      " |-- Producto: integer (nullable = true)\n",
      " |-- Traccion: integer (nullable = true)\n",
      " |-- Mercado: integer (nullable = true)\n",
      " |-- Competencia: integer (nullable = true)\n",
      " |-- Modelo_neg: integer (nullable = true)\n",
      " |-- inversion: integer (nullable = true)\n",
      " |-- contacto: integer (nullable = true)\n",
      " |-- Coordinacion_expo: integer (nullable = true)\n",
      " |-- Expo_claridad: integer (nullable = true)\n",
      " |-- Diapo_clara: integer (nullable = true)\n",
      " |-- Inversionista: string (nullable = true)\n",
      " |-- Observacion: string (nullable = true)\n",
      "\n"
     ]
    }
   ],
   "source": [
    "Evaluacion = Evaluacion.withColumnRenamed(\"Marca temporal\",\"Marca\")\\\n",
    ".withColumnRenamed(\"Nombre de usuario\",\"Nombre\")\\\n",
    ".withColumnRenamed(\"Equipo que vas a evaluar:\",\"Equipo_evaluar\")\\\n",
    ".withColumnRenamed(\"Introducción: El equipo responde adecuadamente ¿Quiénes son y por qué están aquí?\",\"Introduccion\")\\\n",
    ".withColumnRenamed(\"Equipo: El equipo responde adecuadamente ¿Quiénes están detrás de la idea y cuál es su función?\",\"Equipo\")\\\n",
    ".withColumnRenamed(\"Problema: El equipo responde adecuadamente ¿Qué problema resolverá?, ¿es realmente un problema?\",\"Problema\")\\\n",
    ".withColumnRenamed(\"Ventajas: El equipo responde adecuadamente ¿Por qué su solución es especial?, ¿qué la hace distinta de otras?\",\"ventajas\")\\\n",
    ".withColumnRenamed(\"Solución: El equipo responde adecuadamente ¿Cómo piensa resolver el problema?\",\"solucion\")\\\n",
    ".withColumnRenamed(\"Producto: El equipo responde adecuadamente ¿Cómo funciona el producto o servicio? Muestra algunos ejemplos.\",\"Producto\")\\\n",
    ".withColumnRenamed(\"Tracción: El equipo responde adecuadamente si cuenta con clientes que demuestran potencial.\",\"Traccion\")\\\n",
    ".withColumnRenamed(\"Mercado: El equipo responde conoce, o por lo menos intentar predecir, el tamaño del mercado que impactará.\",\"Mercado\")\\\n",
    ".withColumnRenamed(\"Competencia: El equipo responde adecuadamente ¿Cuáles son las soluciones alternativas al problema que plantea?\",\"Competencia\")\\\n",
    ".withColumnRenamed(\"Modelo de negocio: El equipo responde adecuadamente ¿Cómo hará dinero? \",\"Modelo_neg\")\\\n",
    ".withColumnRenamed(\"Inversión: El equipo responde adecuadamente ¿Cuál es su presupuesto y cuánto espera ganar?\",\"inversion\")\\\n",
    ".withColumnRenamed(\"Contacto: El equipo deja los datos al cliente y muestra cómo pueden contactarle.\",\"contacto\")\\\n",
    ".withColumnRenamed(\"Exposición: ¿Qué tan coordinados estaban los expositores?\",\"Coordinacion_expo\")\\\n",
    ".withColumnRenamed(\"Exposición: ¿Los expositores se expresaron con claridad y se hicieron entender?\",\"Expo_claridad\")\\\n",
    ".withColumnRenamed(\"Exposición: Las diapositivas son claras y coherentes y apoyaron adecuadamente la exposición.\",\"Diapo_clara\")\\\n",
    ".withColumnRenamed(\"Suponiendo que eres inversionista, ¿Estarías dispuesto a invertir dinero en este equipo? (esta pregunta no se pondera en la nota)\",\"Inversionista\")\\\n",
    ".withColumnRenamed(\"Observaciones para el equipo, estas observaciones las debe considerar el equipo para mejorar la siguiente presentación.\",\"Observacion\")\n",
    "\n",
    "\n",
    "\n",
    "Evaluacion.printSchema()"
   ]
  },
  {
   "cell_type": "code",
   "execution_count": 14,
   "metadata": {},
   "outputs": [],
   "source": [
    "# 2. Consulte el listado total de estudiantes (correos electrónicos) del \n",
    "# curso de Ingeniería de Software, ordenados alfabéticamente\n",
    "# Tu código a continuación..."
   ]
  },
  {
   "cell_type": "code",
   "execution_count": 15,
   "metadata": {},
   "outputs": [],
   "source": [
    "Asistencia.createOrReplaceTempView('VistaAsistencia')"
   ]
  },
  {
   "cell_type": "code",
   "execution_count": 16,
   "metadata": {},
   "outputs": [
    {
     "name": "stdout",
     "output_type": "stream",
     "text": [
      "+--------------------+\n",
      "|              Nombre|\n",
      "+--------------------+\n",
      "| abanolc@unal.edu.co|\n",
      "|acastrillonv@unal...|\n",
      "| aflemag@unal.edu.co|\n",
      "|anapariciom@unal....|\n",
      "|angutierrezb@unal...|\n",
      "|anoriega@unal.edu.co|\n",
      "|auarbelaeza@unal....|\n",
      "| bocampo@unal.edu.co|\n",
      "|cgiraldo@unal.edu.co|\n",
      "|cjfunezg@unal.edu.co|\n",
      "+--------------------+\n",
      "only showing top 10 rows\n",
      "\n"
     ]
    }
   ],
   "source": [
    "ContextoSql.sql(\"\"\"\n",
    "select distinct Nombre\n",
    "from VistaAsistencia\n",
    "order by Nombre\n",
    "\"\"\").show(10)"
   ]
  },
  {
   "cell_type": "code",
   "execution_count": 17,
   "metadata": {},
   "outputs": [],
   "source": [
    "# 3. Consulte la cantidad de asistencias registradas por estudiante; además, la fecha y hora de la primera asistencia\n",
    "# y la fecha y hora de la última asistencia\n",
    "# Tu código a continuación..."
   ]
  },
  {
   "cell_type": "code",
   "execution_count": 18,
   "metadata": {},
   "outputs": [
    {
     "name": "stdout",
     "output_type": "stream",
     "text": [
      "+--------------------+--------------+--------------------+--------------------+\n",
      "|              Nombre|cantidad_asist|  primera_asistencia|   ultima_asistencia|\n",
      "+--------------------+--------------+--------------------+--------------------+\n",
      "| abanolc@unal.edu.co|             7|2021/04/08 8:12:1...|2021/04/13 9:37:5...|\n",
      "|acastrillonv@unal...|             8|2021/04/08 8:13:0...|2021/04/13 9:43:1...|\n",
      "| aflemag@unal.edu.co|             8|2021/04/08 8:11:5...|2021/04/13 9:41:5...|\n",
      "|anapariciom@unal....|            10|2021/04/08 8:11:4...|2021/04/13 9:38:5...|\n",
      "|angutierrezb@unal...|             8|2021/04/08 8:19:0...|2021/04/13 9:43:5...|\n",
      "|anoriega@unal.edu.co|             8|2021/04/08 8:15:1...|2021/04/13 9:40:2...|\n",
      "|auarbelaeza@unal....|             8|2021/04/08 8:09:5...|2021/04/13 9:41:0...|\n",
      "| bocampo@unal.edu.co|             8|2021/04/08 8:13:3...|2021/04/13 9:42:1...|\n",
      "|cgiraldo@unal.edu.co|             8|2021/04/08 8:44:2...|2021/04/13 9:56:4...|\n",
      "|cjfunezg@unal.edu.co|             8|2021/04/08 8:12:1...|2021/04/13 9:41:4...|\n",
      "+--------------------+--------------+--------------------+--------------------+\n",
      "only showing top 10 rows\n",
      "\n"
     ]
    }
   ],
   "source": [
    "ContextoSql.sql(\"\"\"\n",
    "select Nombre, Count(Marca) as cantidad_asist, min(Marca) as primera_asistencia, max(Marca) as ultima_asistencia\n",
    "from VistaAsistencia\n",
    "group by Nombre\n",
    "order by Nombre\n",
    "\"\"\").show(10)"
   ]
  },
  {
   "cell_type": "code",
   "execution_count": 19,
   "metadata": {},
   "outputs": [
    {
     "name": "stdout",
     "output_type": "stream",
     "text": [
      "+--------------------+--------------+\n",
      "|              Nombre|cantidad_asist|\n",
      "+--------------------+--------------+\n",
      "|jdroldano@unal.ed...|             1|\n",
      "+--------------------+--------------+\n",
      "\n"
     ]
    }
   ],
   "source": [
    "# 4. Consulte el listado de estudiantes que asistieron a 2 presentaciones o menos (una).\n",
    "# Tu código a continuación...\n",
    "\n",
    "ContextoSql.sql(\"\"\"\n",
    "select Nombre, Count(Marca) as cantidad_asist \n",
    "from VistaAsistencia\n",
    "group by Nombre\n",
    "having cantidad_asist>0 AND cantidad_asist<=2\n",
    "order by Nombre\n",
    "\"\"\").show(10)"
   ]
  },
  {
   "cell_type": "code",
   "execution_count": 20,
   "metadata": {},
   "outputs": [
    {
     "name": "stdout",
     "output_type": "stream",
     "text": [
      "+--------------------+\n",
      "|              Nombre|\n",
      "+--------------------+\n",
      "|          ya existe.|\n",
      "| como todo buen e...|\n",
      "| por el hecho de ...|\n",
      "| hasta más famoso...|\n",
      "| que genera un có...|\n",
      "| a comparación de...|\n",
      "| la verdad quedó ...|\n",
      "|                null|\n",
      "|    UberEats incluso|\n",
      "| el negro general...|\n",
      "| o las imágenes c...|\n",
      "| la administració...|\n",
      "| cuántos servicio...|\n",
      "| el problema es q...|\n",
      "| puesto no conozc...|\n",
      "| es un gasto que ...|\n",
      "| poder ver gráfic...|\n",
      "| ya que no se le ...|\n",
      "| eso es más del m...|\n",
      "| pueden incluir a...|\n",
      "| importante decir...|\n",
      "| parece publicida...|\n",
      "+--------------------+\n",
      "\n"
     ]
    }
   ],
   "source": [
    "# 5. Consulte el listado de estudiantes que no asistieron a ninguna presentación.\n",
    "# Tu código a continuación...\n",
    "\n",
    "Evaluacion.createOrReplaceTempView('VistaEvaluacion')\n",
    "\n",
    "# nombres evaluacion sin repetir = Todos los del curso\n",
    "# - nombres asistieron\n",
    "\n",
    "ContextoSql.sql(\"\"\" \n",
    "SELECT A.Nombre FROM VistaEvaluacion A\n",
    "LEFT JOIN VistaAsistencia B\n",
    "ON (A.Nombre = B.Nombre)\n",
    "WHERE B.Nombre IS NULL\n",
    "GROUP BY A.Nombre\n",
    "\"\"\").show(50)\n",
    "\n",
    "# Personas que no asistieron"
   ]
  },
  {
   "cell_type": "code",
   "execution_count": 21,
   "metadata": {},
   "outputs": [
    {
     "name": "stdout",
     "output_type": "stream",
     "text": [
      "+-------------------+\n",
      "|             Nombre|\n",
      "+-------------------+\n",
      "|wocampo@unal.edu.co|\n",
      "|wocampo@unal.edu.co|\n",
      "|wocampo@unal.edu.co|\n",
      "|wocampo@unal.edu.co|\n",
      "|wocampo@unal.edu.co|\n",
      "|wocampo@unal.edu.co|\n",
      "|wocampo@unal.edu.co|\n",
      "|  tleon@unal.edu.co|\n",
      "|  tleon@unal.edu.co|\n",
      "|  tleon@unal.edu.co|\n",
      "+-------------------+\n",
      "only showing top 10 rows\n",
      "\n"
     ]
    }
   ],
   "source": [
    "ContextoSql.sql(\"\"\"\n",
    "select Nombre \n",
    "from VistaEvaluacion\n",
    "order by Nombre DESC\n",
    "\"\"\").show(10)"
   ]
  },
  {
   "cell_type": "code",
   "execution_count": 22,
   "metadata": {},
   "outputs": [],
   "source": [
    "# 6. Consulte los integrantes por cada equipo al que pertenecen.\n",
    "# Tu código a continuación..."
   ]
  },
  {
   "cell_type": "code",
   "execution_count": 23,
   "metadata": {},
   "outputs": [
    {
     "name": "stdout",
     "output_type": "stream",
     "text": [
      "+--------------------+--------------------+\n",
      "|              Nombre|   Equipo_perteneces|\n",
      "+--------------------+--------------------+\n",
      "|angutierrezb@unal...|Pertenezco a: Adm...|\n",
      "| eapenad@unal.edu.co|Pertenezco a: Adm...|\n",
      "|emflorezb@unal.ed...|Pertenezco a: Adm...|\n",
      "|framirezf@unal.ed...|Pertenezco a: Adm...|\n",
      "|jhcordoba@unal.ed...|Pertenezco a: Adm...|\n",
      "| jortize@unal.edu.co|Pertenezco a: Adm...|\n",
      "| kmolano@unal.edu.co|Pertenezco a: Adm...|\n",
      "|lumarinb@unal.edu.co|Pertenezco a: Adm...|\n",
      "|nsalinas@unal.edu.co|Pertenezco a: Adm...|\n",
      "|rmbuilesm@unal.ed...|Pertenezco a: Adm...|\n",
      "|saespinosab@unal....|Pertenezco a: Adm...|\n",
      "|samolinap@unal.ed...|Pertenezco a: Adm...|\n",
      "|sednarvaezna@unal...|Pertenezco a: Adm...|\n",
      "| abanolc@unal.edu.co|Pertenezco a: Ges...|\n",
      "|anapariciom@unal....|Pertenezco a: Ges...|\n",
      "|davgarciava@unal....|Pertenezco a: Ges...|\n",
      "|emlopezr@unal.edu.co|Pertenezco a: Ges...|\n",
      "|favasquezj@unal.e...|Pertenezco a: Ges...|\n",
      "|hriveraa@unal.edu.co|Pertenezco a: Ges...|\n",
      "|jcardonaso@unal.e...|Pertenezco a: Ges...|\n",
      "+--------------------+--------------------+\n",
      "only showing top 20 rows\n",
      "\n"
     ]
    }
   ],
   "source": [
    "ContextoSql.sql(\"\"\"\n",
    "select distinct Nombre, Equipo_perteneces\n",
    "from VistaAsistencia\n",
    "order by Equipo_perteneces, Nombre\n",
    "\"\"\").show()"
   ]
  },
  {
   "cell_type": "code",
   "execution_count": 24,
   "metadata": {},
   "outputs": [
    {
     "name": "stdout",
     "output_type": "stream",
     "text": [
      "+--------------------+--------------------+\n",
      "|   Equipo_perteneces|cantidad_integrantes|\n",
      "+--------------------+--------------------+\n",
      "|Pertenezco a: Adm...|                  13|\n",
      "|Pertenezco a: Ges...|                  11|\n",
      "|Pertenezco a: Ges...|                  12|\n",
      "|Pertenezco a: Ges...|                   9|\n",
      "|Pertenezco a: Lo ...|                  11|\n",
      "|Pertenezco a: Mi ...|                  10|\n",
      "|Pertenezco a: Ser...|                  10|\n",
      "|Pertenezco a: Te ...|                  11|\n",
      "+--------------------+--------------------+\n",
      "\n"
     ]
    }
   ],
   "source": [
    "ContextoSql.sql(\"\"\"\n",
    "select Equipo_perteneces, Count(Nombre) as cantidad_integrantes\n",
    "from (\n",
    "select Distinct Nombre, Equipo_perteneces\n",
    "from VistaAsistencia\n",
    ")\n",
    "group by Equipo_perteneces\n",
    "order by Equipo_perteneces\n",
    "\"\"\").show()"
   ]
  },
  {
   "cell_type": "code",
   "execution_count": 25,
   "metadata": {},
   "outputs": [],
   "source": [
    "# 7. Consulte la cantidad de asistentes por presentación, sin considerar los asistentes que pertenecen \n",
    "# al equipo que realizó la presentación.\n",
    "# Tu código a continuación..."
   ]
  },
  {
   "cell_type": "code",
   "execution_count": 26,
   "metadata": {},
   "outputs": [
    {
     "name": "stdout",
     "output_type": "stream",
     "text": [
      "+--------------------+------------------+\n",
      "|      Equipo_exponer|Cantidad_Asistente|\n",
      "+--------------------+------------------+\n",
      "|Expone: Administr...|                70|\n",
      "|Expone: Deserción...|                 3|\n",
      "|Expone: Gestión d...|                52|\n",
      "|Expone: Gestión d...|                53|\n",
      "|Expone: Gestión d...|                52|\n",
      "|Expone: Lo tengo ...|                75|\n",
      "|Expone: Mi Sanand...|                72|\n",
      "|Expone: Servicios...|                76|\n",
      "|Expone: Te lo cam...|                75|\n",
      "+--------------------+------------------+\n",
      "\n"
     ]
    }
   ],
   "source": [
    "ContextoSql.sql(\"\"\"\n",
    "select Equipo_exponer, Count(Nombre) as Cantidad_Asistente\n",
    "from VistaAsistencia\n",
    "where substring(Equipo_exponer,9,4) != substring(Equipo_perteneces,15,4)\n",
    "group by Equipo_exponer\n",
    "order by Equipo_exponer\n",
    "\"\"\").show()\n"
   ]
  },
  {
   "cell_type": "code",
   "execution_count": 27,
   "metadata": {},
   "outputs": [
    {
     "name": "stdout",
     "output_type": "stream",
     "text": [
      "+--------------------+\n",
      "|      Equipo_evaluar|\n",
      "+--------------------+\n",
      "|       Te lo cambio.|\n",
      "|       Te lo cambio.|\n",
      "|       Te lo cambio.|\n",
      "|       Te lo cambio.|\n",
      "|       Te lo cambio.|\n",
      "|       Te lo cambio.|\n",
      "|       Te lo cambio.|\n",
      "|       Te lo cambio.|\n",
      "|       Te lo cambio.|\n",
      "|Lo tengo y te lo ...|\n",
      "|       Te lo cambio.|\n",
      "|       Te lo cambio.|\n",
      "|       Te lo cambio.|\n",
      "|       Te lo cambio.|\n",
      "|       Te lo cambio.|\n",
      "|       Te lo cambio.|\n",
      "|       Te lo cambio.|\n",
      "|       Te lo cambio.|\n",
      "|       Te lo cambio.|\n",
      "|       Te lo cambio.|\n",
      "+--------------------+\n",
      "only showing top 20 rows\n",
      "\n"
     ]
    }
   ],
   "source": [
    "ContextoSql.sql(\"\"\"\n",
    "select Equipo_evaluar\n",
    "from VistaEvaluacion\n",
    "\"\"\").show()\n",
    "\n",
    "#, Count(Nombre) as Cantidad_Asistente\n",
    "#where substring(Equipo_exponer,9,4) != substring(Equipo_perteneces,15,4)\n",
    "#group by Equipo_exponer\n",
    "#order by Equipo_exponer"
   ]
  },
  {
   "cell_type": "code",
   "execution_count": 28,
   "metadata": {},
   "outputs": [],
   "source": [
    "# 8. Consutar cuáles integrantes evaluaron a su propio equipo. Estas evaluaciones no serán válidas, pues un\n",
    "# integrante no puede evaluar a su propio equipo.\n",
    "# Tu código a continuación..."
   ]
  },
  {
   "cell_type": "code",
   "execution_count": 29,
   "metadata": {},
   "outputs": [
    {
     "name": "stdout",
     "output_type": "stream",
     "text": [
      "+--------------------+----------------------+----------------------+-----------------------+\n",
      "|              Nombre|llave_equipo_pertenece|llave_Equipo_a_evaluar|Num_veces_evaluo_equipo|\n",
      "+--------------------+----------------------+----------------------+-----------------------+\n",
      "|hriveraa@unal.edu.co|       Gestión de Menú|       Gestión de Menú|                      7|\n",
      "|jhcordoba@unal.ed...|       Administración |       Administración |                      1|\n",
      "|daestradam@unal.e...|       Lo tengo y te l|       Lo tengo y te l|                      8|\n",
      "| jruedat@unal.edu.co|       Servicios a dom|       Servicios a dom|                      8|\n",
      "| kmolano@unal.edu.co|       Administración |       Administración |                      1|\n",
      "|  lmayar@unal.edu.co|       Gestión de prog|       Gestión de prog|                      9|\n",
      "|mcarvajalsa@unal....|       Gestión de Resi|       Gestión de Resi|                      1|\n",
      "|anapariciom@unal....|       Servicios a dom|       Servicios a dom|                      1|\n",
      "+--------------------+----------------------+----------------------+-----------------------+\n",
      "\n"
     ]
    }
   ],
   "source": [
    "ContextoSql.sql(\"\"\"\n",
    "\n",
    "WITH \n",
    "\n",
    "ASISTENCIAS AS (\n",
    "select\n",
    "Equipo_exponer, \n",
    "Equipo_perteneces,\n",
    "Nombre,\n",
    "substring(Equipo_perteneces,15,15) as llave_equipo_pertenece,\n",
    "substring(Equipo_exponer,9,15) as llave_equipo_exponer\n",
    "from VistaAsistencia\n",
    "),   \n",
    "\n",
    "EVALUACION AS (\n",
    "select \n",
    "Nombre,\n",
    "substring(Equipo_evaluar,1,15) as llave_Equipo_a_evaluar,\n",
    "Equipo_evaluar\n",
    "from VistaEvaluacion\n",
    ")\n",
    "\n",
    "    select distinct b1.Nombre,\n",
    "    b1.llave_equipo_pertenece, \n",
    "    b2.llave_Equipo_a_evaluar, \n",
    "    count(*) as Num_veces_evaluo_equipo\n",
    "    from ASISTENCIAS b1\n",
    "    inner join EVALUACION b2 on b1.Nombre = b2.Nombre  AND  b1.llave_equipo_pertenece = b2.llave_Equipo_a_evaluar\n",
    "    group by b1.Nombre, b1.llave_equipo_pertenece, b2.llave_Equipo_a_evaluar\n",
    "\n",
    "\"\"\").show()"
   ]
  },
  {
   "cell_type": "code",
   "execution_count": 30,
   "metadata": {},
   "outputs": [],
   "source": [
    "# 9. Consultar la nota promedio por cada ítem (1 al 15), y la nota promedio total del cada equipo. Recuerde que no\n",
    "# son válidas las evaluaciones realizadas por los miembros del mismo equipo.\n",
    "# Tu código a continuación...\n",
    "\n",
    "#Nota: Hay evaluaciones de nombre usuario repetida, ¿Cúal de las evaluaciones se debe escoger? ¿Ambas? --- Tienen diferente hora y calificación\n"
   ]
  },
  {
   "cell_type": "code",
   "execution_count": 31,
   "metadata": {},
   "outputs": [
    {
     "name": "stdout",
     "output_type": "stream",
     "text": [
      "+--------------------+----+----+----+----+----+----+----+----+----+----+----+----+----+----+----+--------------+\n",
      "|      Equipo_evaluar|   a|   b|   c|   d|   e|   f|   g|   h|   i|   j|   k|   l|   m|   n|   o|PROMEDIO_TOTAL|\n",
      "+--------------------+----+----+----+----+----+----+----+----+----+----+----+----+----+----+----+--------------+\n",
      "|Administración de...|4.12|4.41|3.97|3.93|4.19|4.44|4.05|4.42|3.95|4.42|4.13|4.13|4.32|4.22|4.14|          4.19|\n",
      "|Deserción de estu...| 4.5| 5.0| 5.0| 5.0| 4.5| 5.0| 5.0| 4.5| 5.0| 4.5| 4.5| 5.0| 4.5| 4.5| 5.0|          4.77|\n",
      "|Gestión de Menús ...|4.32|3.98|4.57|4.32|4.38|4.02| 4.2|4.22| 4.3|4.64|4.31|4.51|4.46|4.45|4.73|          4.36|\n",
      "|Gestión de Reside...|4.56|4.43|4.64|4.45|4.46|4.12|4.52|4.68|4.42|4.53|4.35|4.65|4.43|4.52|4.41|          4.48|\n",
      "|Gestión de progra...|4.38| 4.4|4.55|3.92|4.34|4.45|4.42| 4.5|4.28|4.32|4.54|4.43|4.45|4.49|4.63|          4.41|\n",
      "|Lo tengo y te lo ...|4.49| 4.6|4.27|4.43|4.42|4.72|4.36|4.25|4.49|4.47|4.36|4.59|4.53| 4.6|4.61|          4.48|\n",
      "|     Mi Sanandresito| 4.2|3.91| 4.3|4.02|4.32|4.32|4.25|4.39|3.52|4.36|4.38|4.63|4.28|4.18|4.13|          4.21|\n",
      "|Servicios a domic...|4.49|4.63|4.51|4.27| 4.5|4.61| 4.1|4.12|4.36|4.27|4.16|4.65|4.49|4.56|4.59|          4.42|\n",
      "|       Te lo cambio.|4.35|4.02|4.22| 4.0|4.44|4.84|4.09|4.09| 4.2|4.32|3.59| 4.5|4.57|4.46|4.55|          4.28|\n",
      "+--------------------+----+----+----+----+----+----+----+----+----+----+----+----+----+----+----+--------------+\n",
      "\n"
     ]
    }
   ],
   "source": [
    "ContextoSql.sql(\"\"\"\n",
    "\n",
    "WITH \n",
    "\n",
    "ASISTENCIAS AS (\n",
    "select *,\n",
    "substring(Equipo_perteneces,15,15) as llave_equipo_pertenece,\n",
    "substring(Equipo_exponer,9,15) as llave_equipo_exponer\n",
    "from VistaAsistencia\n",
    "),\n",
    "\n",
    "EVALUACION AS (\n",
    "select *,\n",
    "substring(Equipo_evaluar,1,15) as llave_Equipo_a_evaluar\n",
    "from VistaEvaluacion\n",
    "),\n",
    "\n",
    "ASISTENTES_VERDADERAS AS (\n",
    "select \n",
    "b1.Nombre,\n",
    "b1.Equipo_perteneces,\n",
    "b2.*\n",
    "\n",
    "from ASISTENCIAS b1 \n",
    "inner join EVALUACION b2 on b1.Nombre = b2.Nombre\n",
    "where b1.llave_equipo_pertenece != b2.llave_Equipo_a_evaluar \n",
    ")\n",
    "\n",
    "    select Equipo_evaluar,\n",
    "    ROUND(AVG(Introduccion),2) as a, \n",
    "    ROUND(AVG(Equipo),2) as b, \n",
    "    ROUND(AVG(Problema),2) as c, \n",
    "    ROUND(AVG(ventajas),2) as d, \n",
    "    ROUND(AVG(Solucion),2) as e,\n",
    "    ROUND(AVG(Producto),2) as f,\n",
    "    ROUND(AVG(Traccion),2) as g,\n",
    "    ROUND(AVG(Mercado),2) as h,\n",
    "    ROUND(AVG(Competencia),2) as i,\n",
    "    ROUND(AVG(Modelo_neg),2) as j,\n",
    "    ROUND(AVG(inversion),2) as k,\n",
    "    ROUND(AVG(contacto),2) as l,\n",
    "    ROUND(AVG(Coordinacion_expo),2) as m, \n",
    "    ROUND(AVG(Expo_claridad),2) as n, \n",
    "    ROUND(AVG(Diapo_clara),2) as o,\n",
    "    ROUND(AVG(Introduccion+Equipo+Problema+ventajas+Solucion+Producto+Traccion+Mercado+Competencia+Modelo_neg+inversion+contacto+Coordinacion_expo+Expo_claridad+Diapo_clara)/15,2) AS PROMEDIO_TOTAL\n",
    "\n",
    "    from ASISTENTES_VERDADERAS\n",
    "    group by Equipo_evaluar\n",
    "    order by Equipo_evaluar\n",
    "\n",
    "\"\"\").show()"
   ]
  },
  {
   "cell_type": "code",
   "execution_count": 32,
   "metadata": {},
   "outputs": [],
   "source": [
    "# 10. Consulte el mejor equipo evaluado por cada ítem (según nota promedio. En caso de empate mostrar todos los empatados) \n",
    "# y el mejor equipo según el promedio total.\n",
    "# Tu código a continuación..."
   ]
  },
  {
   "cell_type": "code",
   "execution_count": 33,
   "metadata": {},
   "outputs": [
    {
     "name": "stdout",
     "output_type": "stream",
     "text": [
      "+--------------------+----+----+\n",
      "|      Equipo_evaluar|item|nota|\n",
      "+--------------------+----+----+\n",
      "|Gestión de Reside...|   a|4.56|\n",
      "|Deserción de estu...|   b| 5.0|\n",
      "|Deserción de estu...|   c| 5.0|\n",
      "|Deserción de estu...|   d| 5.0|\n",
      "|Deserción de estu...|   e| 4.5|\n",
      "|Servicios a domic...|   e| 4.5|\n",
      "|Deserción de estu...|   f| 5.0|\n",
      "|Deserción de estu...|   g| 5.0|\n",
      "|Gestión de Reside...|   h|4.68|\n",
      "|Deserción de estu...|   i| 5.0|\n",
      "|Gestión de Menús ...|   j|4.64|\n",
      "|Gestión de progra...|   k|4.54|\n",
      "|Deserción de estu...|   l| 5.0|\n",
      "|       Te lo cambio.|   m|4.57|\n",
      "|Lo tengo y te lo ...|   n| 4.6|\n",
      "|Deserción de estu...|   o| 5.0|\n",
      "+--------------------+----+----+\n",
      "\n"
     ]
    }
   ],
   "source": [
    "ContextoSql.sql(\"\"\"\n",
    "\n",
    "WITH \n",
    "\n",
    "ASISTENCIAS AS (\n",
    "select *,\n",
    "substring(Equipo_perteneces,15,15) as llave_equipo_pertenece,\n",
    "substring(Equipo_exponer,9,15) as llave_equipo_exponer\n",
    "from VistaAsistencia\n",
    "),\n",
    "\n",
    "EVALUACION AS (\n",
    "select *,\n",
    "substring(Equipo_evaluar,1,15) as llave_Equipo_a_evaluar\n",
    "from VistaEvaluacion\n",
    "),\n",
    "\n",
    "ASISTENTES_VERDADERAS AS (\n",
    "select \n",
    "b1.Nombre,\n",
    "b1.Equipo_perteneces,\n",
    "b2.*\n",
    "\n",
    "from ASISTENCIAS b1 \n",
    "inner join EVALUACION b2 on b1.Nombre = b2.Nombre\n",
    "where b1.llave_equipo_pertenece != b2.llave_Equipo_a_evaluar \n",
    "), final as (\n",
    "\n",
    "    select Equipo_evaluar,\n",
    "    ROUND(AVG(Introduccion),2) as a, \n",
    "    ROUND(AVG(Equipo),2) as b, \n",
    "    ROUND(AVG(Problema),2) as c, \n",
    "    ROUND(AVG(ventajas),2) as d, \n",
    "    ROUND(AVG(Solucion),2) as e,\n",
    "    ROUND(AVG(Producto),2) as f,\n",
    "    ROUND(AVG(Traccion),2) as g,\n",
    "    ROUND(AVG(Mercado),2) as h,\n",
    "    ROUND(AVG(Competencia),2) as i,\n",
    "    ROUND(AVG(Modelo_neg),2) as j,\n",
    "    ROUND(AVG(inversion),2) as k,\n",
    "    ROUND(AVG(contacto),2) as l,\n",
    "    ROUND(AVG(Coordinacion_expo),2) as m, \n",
    "    ROUND(AVG(Expo_claridad),2) as n, \n",
    "    ROUND(AVG(Diapo_clara),2) as o,\n",
    "    ROUND(AVG(Introduccion+Equipo+Problema+ventajas+Solucion+Producto+Traccion+Mercado+Competencia+Modelo_neg+inversion+contacto+Coordinacion_expo+Expo_claridad+Diapo_clara)/15,2) AS PROMEDIO_TOTAL\n",
    "\n",
    "    from ASISTENTES_VERDADERAS\n",
    "    group by Equipo_evaluar\n",
    "    order by Equipo_evaluar\n",
    ")\n",
    "\n",
    "select Equipo_evaluar, 'a' as item, a as nota\n",
    "from final inner join\n",
    "(select max(a) nota \n",
    "from final) y on final.a=y.nota\n",
    "union all\n",
    "select Equipo_evaluar, 'b' as item, b as nota\n",
    "from final inner join\n",
    "(select max(b) nota \n",
    "from final) y on final.b=y.nota\n",
    "union all\n",
    "select Equipo_evaluar, 'c' as item, c as nota\n",
    "from final inner join\n",
    "(select max(c) nota \n",
    "from final) y on final.c=y.nota\n",
    "union all\n",
    "select Equipo_evaluar, 'd' as item, d as nota\n",
    "from final inner join\n",
    "(select max(d) nota \n",
    "from final) y on final.d=y.nota\n",
    "union all\n",
    "select Equipo_evaluar, 'e' as item, e as nota\n",
    "from final inner join\n",
    "(select max(e) nota \n",
    "from final) y on final.e=y.nota\n",
    "union all\n",
    "select Equipo_evaluar, 'f' as item, f as nota\n",
    "from final inner join\n",
    "(select max(f) nota \n",
    "from final) y on final.f=y.nota\n",
    "union all\n",
    "select Equipo_evaluar, 'g' as item, g as nota\n",
    "from final inner join\n",
    "(select max(g) nota \n",
    "from final) y on final.g=y.nota\n",
    "union all\n",
    "select Equipo_evaluar, 'h' as item, h as nota\n",
    "from final inner join\n",
    "(select max(h) nota \n",
    "from final) y on final.h=y.nota\n",
    "union all\n",
    "select Equipo_evaluar, 'i' as item, i as nota\n",
    "from final inner join\n",
    "(select max(i) nota \n",
    "from final) y on final.i=y.nota\n",
    "union all\n",
    "select Equipo_evaluar, 'j' as item, j as nota\n",
    "from final inner join\n",
    "(select max(j) nota \n",
    "from final) y on final.j=y.nota\n",
    "union all\n",
    "select Equipo_evaluar, 'k' as item, k as nota\n",
    "from final inner join\n",
    "(select max(k) nota \n",
    "from final) y on final.k=y.nota\n",
    "union all\n",
    "select Equipo_evaluar, 'l' as item, l as nota\n",
    "from final inner join\n",
    "(select max(l) nota \n",
    "from final) y on final.l=y.nota\n",
    "union all\n",
    "select Equipo_evaluar, 'm' as item, m as nota\n",
    "from final inner join\n",
    "(select max(m) nota \n",
    "from final) y on final.m=y.nota\n",
    "union all\n",
    "select Equipo_evaluar, 'n' as item, n as nota\n",
    "from final inner join\n",
    "(select max(n) nota \n",
    "from final) y on final.n=y.nota\n",
    "union all\n",
    "select Equipo_evaluar, 'o' as item, o as nota\n",
    "from final inner join\n",
    "(select max(o) nota \n",
    "from final) y on final.o=y.nota\n",
    "\"\"\").show()"
   ]
  },
  {
   "cell_type": "code",
   "execution_count": 34,
   "metadata": {},
   "outputs": [],
   "source": [
    "# 11. Consulte el peor equipo evaluado por cada ítem (según nota promedio. En caso de empate mostrar todos los empatados) \n",
    "# y el peor equipo según el promedio total.\n",
    "# Tu código a continuación..."
   ]
  },
  {
   "cell_type": "code",
   "execution_count": 35,
   "metadata": {},
   "outputs": [
    {
     "name": "stdout",
     "output_type": "stream",
     "text": [
      "+--------------------+----+----+\n",
      "|      Equipo_evaluar|item|nota|\n",
      "+--------------------+----+----+\n",
      "|Administración de...|   a|4.12|\n",
      "|     Mi Sanandresito|   b|3.91|\n",
      "|Administración de...|   c|3.97|\n",
      "|Gestión de progra...|   d|3.92|\n",
      "|Administración de...|   e|4.19|\n",
      "|Gestión de Menús ...|   f|4.02|\n",
      "|Administración de...|   g|4.05|\n",
      "|       Te lo cambio.|   h|4.09|\n",
      "|     Mi Sanandresito|   i|3.52|\n",
      "|Servicios a domic...|   j|4.27|\n",
      "|       Te lo cambio.|   k|3.59|\n",
      "|Administración de...|   l|4.13|\n",
      "|     Mi Sanandresito|   m|4.28|\n",
      "|     Mi Sanandresito|   n|4.18|\n",
      "|     Mi Sanandresito|   o|4.13|\n",
      "+--------------------+----+----+\n",
      "\n"
     ]
    }
   ],
   "source": [
    "ContextoSql.sql(\"\"\"\n",
    "\n",
    "WITH \n",
    "\n",
    "ASISTENCIAS AS (\n",
    "select *,\n",
    "substring(Equipo_perteneces,15,15) as llave_equipo_pertenece,\n",
    "substring(Equipo_exponer,9,15) as llave_equipo_exponer\n",
    "from VistaAsistencia\n",
    "),\n",
    "\n",
    "EVALUACION AS (\n",
    "select *,\n",
    "substring(Equipo_evaluar,1,15) as llave_Equipo_a_evaluar\n",
    "from VistaEvaluacion\n",
    "),\n",
    "\n",
    "ASISTENTES_VERDADERAS AS (\n",
    "select \n",
    "b1.Nombre,\n",
    "b1.Equipo_perteneces,\n",
    "b2.*\n",
    "\n",
    "from ASISTENCIAS b1 \n",
    "inner join EVALUACION b2 on b1.Nombre = b2.Nombre\n",
    "where b1.llave_equipo_pertenece != b2.llave_Equipo_a_evaluar \n",
    "), final as (\n",
    "\n",
    "    select Equipo_evaluar,\n",
    "    ROUND(AVG(Introduccion),2) as a, \n",
    "    ROUND(AVG(Equipo),2) as b, \n",
    "    ROUND(AVG(Problema),2) as c, \n",
    "    ROUND(AVG(ventajas),2) as d, \n",
    "    ROUND(AVG(Solucion),2) as e,\n",
    "    ROUND(AVG(Producto),2) as f,\n",
    "    ROUND(AVG(Traccion),2) as g,\n",
    "    ROUND(AVG(Mercado),2) as h,\n",
    "    ROUND(AVG(Competencia),2) as i,\n",
    "    ROUND(AVG(Modelo_neg),2) as j,\n",
    "    ROUND(AVG(inversion),2) as k,\n",
    "    ROUND(AVG(contacto),2) as l,\n",
    "    ROUND(AVG(Coordinacion_expo),2) as m, \n",
    "    ROUND(AVG(Expo_claridad),2) as n, \n",
    "    ROUND(AVG(Diapo_clara),2) as o,\n",
    "    ROUND(AVG(Introduccion+Equipo+Problema+ventajas+Solucion+Producto+Traccion+Mercado+Competencia+Modelo_neg+inversion+contacto+Coordinacion_expo+Expo_claridad+Diapo_clara)/15,2) AS PROMEDIO_TOTAL\n",
    "\n",
    "    from ASISTENTES_VERDADERAS\n",
    "    group by Equipo_evaluar\n",
    "    order by Equipo_evaluar\n",
    ")\n",
    "\n",
    "select Equipo_evaluar, 'a' as item, a as nota\n",
    "from final inner join\n",
    "(select min(a) nota \n",
    "from final) y on final.a=y.nota\n",
    "union all\n",
    "select Equipo_evaluar, 'b' as item, b as nota\n",
    "from final inner join\n",
    "(select min(b) nota \n",
    "from final) y on final.b=y.nota\n",
    "union all\n",
    "select Equipo_evaluar, 'c' as item, c as nota\n",
    "from final inner join\n",
    "(select min(c) nota \n",
    "from final) y on final.c=y.nota\n",
    "union all\n",
    "select Equipo_evaluar, 'd' as item, d as nota\n",
    "from final inner join\n",
    "(select min(d) nota \n",
    "from final) y on final.d=y.nota\n",
    "union all\n",
    "select Equipo_evaluar, 'e' as item, e as nota\n",
    "from final inner join\n",
    "(select min(e) nota \n",
    "from final) y on final.e=y.nota\n",
    "union all\n",
    "select Equipo_evaluar, 'f' as item, f as nota\n",
    "from final inner join\n",
    "(select min(f) nota \n",
    "from final) y on final.f=y.nota\n",
    "union all\n",
    "select Equipo_evaluar, 'g' as item, g as nota\n",
    "from final inner join\n",
    "(select min(g) nota \n",
    "from final) y on final.g=y.nota\n",
    "union all\n",
    "select Equipo_evaluar, 'h' as item, h as nota\n",
    "from final inner join\n",
    "(select min(h) nota \n",
    "from final) y on final.h=y.nota\n",
    "union all\n",
    "select Equipo_evaluar, 'i' as item, i as nota\n",
    "from final inner join\n",
    "(select min(i) nota \n",
    "from final) y on final.i=y.nota\n",
    "union all\n",
    "select Equipo_evaluar, 'j' as item, j as nota\n",
    "from final inner join\n",
    "(select min(j) nota \n",
    "from final) y on final.j=y.nota\n",
    "union all\n",
    "select Equipo_evaluar, 'k' as item, k as nota\n",
    "from final inner join\n",
    "(select min(k) nota \n",
    "from final) y on final.k=y.nota\n",
    "union all\n",
    "select Equipo_evaluar, 'l' as item, l as nota\n",
    "from final inner join\n",
    "(select min(l) nota \n",
    "from final) y on final.l=y.nota\n",
    "union all\n",
    "select Equipo_evaluar, 'm' as item, m as nota\n",
    "from final inner join\n",
    "(select min(m) nota \n",
    "from final) y on final.m=y.nota\n",
    "union all\n",
    "select Equipo_evaluar, 'n' as item, n as nota\n",
    "from final inner join\n",
    "(select min(n) nota \n",
    "from final) y on final.n=y.nota\n",
    "union all\n",
    "select Equipo_evaluar, 'o' as item, o as nota\n",
    "from final inner join\n",
    "(select min(o) nota \n",
    "from final) y on final.o=y.nota\n",
    "\"\"\").show()"
   ]
  },
  {
   "cell_type": "code",
   "execution_count": 36,
   "metadata": {},
   "outputs": [],
   "source": [
    "# 12. Consulte la lista de estudiantes con la correspondiente nota obtenida en la presentación \n",
    "# (nota promedio total de la evaluación obtenida por el equipo)\n",
    "# Tu código a continuación..."
   ]
  },
  {
   "cell_type": "code",
   "execution_count": 37,
   "metadata": {},
   "outputs": [
    {
     "name": "stdout",
     "output_type": "stream",
     "text": [
      "+--------------------+--------------+\n",
      "|            Nombre_a|PROMEDIO_TOTAL|\n",
      "+--------------------+--------------+\n",
      "| abanolc@unal.edu.co|          3.76|\n",
      "|acastrillonv@unal...|          3.99|\n",
      "| aflemag@unal.edu.co|          4.33|\n",
      "|anapariciom@unal....|          4.12|\n",
      "|angutierrezb@unal...|          4.22|\n",
      "|anoriega@unal.edu.co|          4.62|\n",
      "|auarbelaeza@unal....|          4.36|\n",
      "| bocampo@unal.edu.co|          4.19|\n",
      "|cgiraldo@unal.edu.co|          3.43|\n",
      "|cjfunezg@unal.edu.co|          4.33|\n",
      "|cquinchiar@unal.e...|           4.5|\n",
      "| dadazam@unal.edu.co|          4.47|\n",
      "|daestradam@unal.e...|          4.04|\n",
      "|davgarciava@unal....|          4.22|\n",
      "|dballesteroso@una...|          4.77|\n",
      "|  dbrito@unal.edu.co|          4.66|\n",
      "|dcadavid@unal.edu.co|          4.75|\n",
      "|dcardonaal@unal.e...|          4.09|\n",
      "|dchavarriar@unal....|          4.92|\n",
      "|dgarciabl@unal.ed...|          4.31|\n",
      "+--------------------+--------------+\n",
      "only showing top 20 rows\n",
      "\n"
     ]
    }
   ],
   "source": [
    "ContextoSql.sql(\"\"\"\n",
    "\n",
    "WITH \n",
    "\n",
    "ASISTENCIAS AS (\n",
    "select *,\n",
    "substring(Equipo_perteneces,15,15) as llave_equipo_pertenece,\n",
    "substring(Equipo_exponer,9,15) as llave_equipo_exponer\n",
    "from VistaAsistencia\n",
    "),\n",
    "\n",
    "EVALUACION AS (\n",
    "select *,\n",
    "substring(Equipo_evaluar,1,15) as llave_Equipo_a_evaluar\n",
    "from VistaEvaluacion\n",
    "),\n",
    "\n",
    "ASISTENTES_VERDADERAS AS (\n",
    "select \n",
    "b1.Nombre as Nombre_a,\n",
    "b1.Equipo_perteneces,\n",
    "b2.*\n",
    "\n",
    "from ASISTENCIAS b1 \n",
    "inner join EVALUACION b2 on b1.Nombre = b2.Nombre\n",
    "where b1.llave_equipo_pertenece != b2.llave_Equipo_a_evaluar \n",
    ")\n",
    "\n",
    "    select Nombre_a,\n",
    "    ROUND(AVG(Introduccion+Equipo+Problema+ventajas+Solucion+Producto+Traccion+Mercado+Competencia+Modelo_neg+inversion+contacto+Coordinacion_expo+Expo_claridad+Diapo_clara)/15,2) AS PROMEDIO_TOTAL\n",
    "    from ASISTENTES_VERDADERAS\n",
    "    group by Nombre_a\n",
    "    order by Nombre_a\n",
    "\n",
    "\"\"\").show()"
   ]
  }
 ],
 "metadata": {
  "kernelspec": {
   "display_name": "Python 3",
   "language": "python",
   "name": "python3"
  },
  "language_info": {
   "codemirror_mode": {
    "name": "ipython",
    "version": 3
   },
   "file_extension": ".py",
   "mimetype": "text/x-python",
   "name": "python",
   "nbconvert_exporter": "python",
   "pygments_lexer": "ipython3",
   "version": "3.6.9"
  }
 },
 "nbformat": 4,
 "nbformat_minor": 4
}
